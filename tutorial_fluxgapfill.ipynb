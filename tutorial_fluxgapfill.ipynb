{
 "cells": [
  {
   "cell_type": "code",
   "execution_count": 1,
   "metadata": {},
   "outputs": [
    {
     "name": "stdout",
     "output_type": "stream",
     "text": [
      "^C\n"
     ]
    }
   ],
   "source": [
    "!pip install fluxgapfill"
   ]
  },
  {
   "cell_type": "code",
   "execution_count": 2,
   "metadata": {},
   "outputs": [],
   "source": [
    "from fluxgapfill.main import *"
   ]
  },
  {
   "cell_type": "code",
   "execution_count": 3,
   "metadata": {},
   "outputs": [],
   "source": [
    "data_dir = 'E:\\projects\\methane_gapfilling\\code_final\\data_dir'\n",
    "sites = 'TEST'\n",
    "models=['rf'] \n",
    "predictors = 'all'"
   ]
  },
  {
   "cell_type": "code",
   "execution_count": 4,
   "metadata": {},
   "outputs": [
    {
     "name": "stdout",
     "output_type": "stream",
     "text": [
      "Data preprocessing... - site: TEST\n",
      " - Loading test data\n",
      " - Estimating artificial gap distribution...\n"
     ]
    },
    {
     "name": "stderr",
     "output_type": "stream",
     "text": [
      "100%|████████████████████████████████████████████████████████████████████████████████| 100/100 [02:02<00:00,  1.22s/it]\n"
     ]
    },
    {
     "name": "stdout",
     "output_type": "stream",
     "text": [
      " - Done estimating artificial gap distribution.\n",
      " - Done preprocessing data for site TEST.\n",
      " - Processed data written to E:\\projects\\methane_gapfilling\\code_final\\data_dir\\TEST.\n",
      "\n"
     ]
    }
   ],
   "source": [
    "preprocess(sites=sites, data_dir=data_dir)"
   ]
  },
  {
   "cell_type": "code",
   "execution_count": 5,
   "metadata": {
    "scrolled": false
   },
   "outputs": [
    {
     "name": "stdout",
     "output_type": "stream",
     "text": [
      "Model training...\n",
      " - site: TEST\n",
      " - model: rf\n",
      " - predictors: TIMESTAMP_END,Year,DOY,Hour,Tair,Pa,PPFD,VPD,TS20cm,TS40cm,WTD,Twater,Salinity,DO,LE,GPP,Reco,NEE\n",
      " - Training on 0/10...\n",
      " - Training on 1/10...\n",
      " - Training on 2/10...\n",
      " - Training on 3/10...\n",
      " - Training on 4/10...\n",
      " - Training on 5/10...\n",
      " - Training on 6/10...\n",
      " - Training on 7/10...\n",
      " - Training on 8/10...\n",
      " - Training on 9/10...\n",
      " - Done model training.\n",
      "\n"
     ]
    }
   ],
   "source": [
    "train(sites=sites,\n",
    "      data_dir=data_dir,\n",
    "      models=models,\n",
    "      predictors=predictors,\n",
    "      overwrite_existing_models=True)"
   ]
  },
  {
   "cell_type": "code",
   "execution_count": 6,
   "metadata": {},
   "outputs": [
    {
     "name": "stdout",
     "output_type": "stream",
     "text": [
      "Model testing...\n",
      " - site: TEST\n",
      " - model: rf\n",
      " - predictors: predictors\n",
      " - Writing test metrics to: E:\\projects\\methane_gapfilling\\code_final\\data_dir\\TEST\\models\\rf\\predictors\\test_results.csv\n",
      "\n"
     ]
    }
   ],
   "source": [
    "test(data_dir=data_dir,\n",
    "     sites=sites,\n",
    "     models=models,\n",
    "     predictors='all',\n",
    "     split='test',\n",
    "     distribution='laplace',\n",
    "     overwrite_results=True\n",
    "     )"
   ]
  },
  {
   "cell_type": "code",
   "execution_count": 7,
   "metadata": {},
   "outputs": [
    {
     "name": "stdout",
     "output_type": "stream",
     "text": [
      "Gapfilling: TEST, rf, predictors, laplace\n",
      " - Writing gapfilled data to E:\\projects\\methane_gapfilling\\code_final\\data_dir\\TEST\\gapfilled\\rf_predictors_laplace.csv\n",
      "\n",
      "Computing Annual Budget: TEST, rf, predictors, laplace\n",
      " - Budget between 2017-01-01 and 2018-01-01 is 0.55 +/- 0.19\n",
      " - Writing budget data to E:\\projects\\methane_gapfilling\\code_final\\data_dir\\TEST\\gapfilled\\rf_predictors_laplace_budget.csv\n",
      "\n"
     ]
    }
   ],
   "source": [
    "gapfill(data_dir=data_dir, \n",
    "        models=models)"
   ]
  },
  {
   "cell_type": "code",
   "execution_count": null,
   "metadata": {},
   "outputs": [],
   "source": []
  },
  {
   "cell_type": "code",
   "execution_count": null,
   "metadata": {},
   "outputs": [],
   "source": []
  },
  {
   "cell_type": "code",
   "execution_count": 12,
   "metadata": {},
   "outputs": [
    {
     "name": "stdout",
     "output_type": "stream",
     "text": [
      "Data preprocessing... - site: TEST\n",
      " - Loading test data\n",
      " - Estimating artificial gap distribution...\n"
     ]
    },
    {
     "name": "stderr",
     "output_type": "stream",
     "text": [
      "100%|████████████████████████████████████████████████████████████████████████████████| 100/100 [02:01<00:00,  1.21s/it]\n"
     ]
    },
    {
     "name": "stdout",
     "output_type": "stream",
     "text": [
      " - Done estimating artificial gap distribution.\n",
      " - Done preprocessing data for site TEST.\n",
      " - Processed data written to E:\\projects\\methane_gapfilling\\code_final\\data_dir\\TEST.\n",
      "\n",
      "Model training...\n",
      " - site: TEST\n",
      " - model: rf\n",
      " - predictors: TIMESTAMP_END,Year,DOY,Hour,Tair,Pa,PPFD,VPD,TS20cm,TS40cm,WTD,Twater,Salinity,DO,LE,GPP,Reco,NEE\n",
      " - Training on 0/10...\n",
      " - Training on 1/10...\n",
      " - Training on 2/10...\n",
      " - Training on 3/10...\n",
      " - Training on 4/10...\n",
      " - Training on 5/10...\n",
      " - Training on 6/10...\n",
      " - Training on 7/10...\n",
      " - Training on 8/10...\n",
      " - Training on 9/10...\n",
      " - Done model training.\n",
      "\n",
      "Model testing... - site: TEST\n",
      " - model: rf\n",
      " - predictors: predictors\n",
      " - Writing test metrics to: E:\\projects\\methane_gapfilling\\code_final\\data_dir\\TEST\\models\\rf\\predictors\\test_results.csv\n",
      "\n",
      "Gapfilling: TEST, rf, predictors, laplace\n",
      " - Writing gapfilled data to E:\\projects\\methane_gapfilling\\code_final\\data_dir\\TEST\\gapfilled\\rf_predictors_laplace.csv\n",
      "\n",
      "Computing Annual Budget: TEST, rf, predictors, laplace\n",
      " - Budget between 2017-01-01 and 2018-01-01 is 0.55 +/- 0.14\n",
      " - Writing budget data to E:\\projects\\methane_gapfilling\\code_final\\data_dir\\TEST\\gapfilled\\rf_predictors_laplace_budget.csv\n",
      "\n"
     ]
    }
   ],
   "source": [
    "run_all(data_dir=data_dir, \n",
    "        sites=sites,\n",
    "        models=models,\n",
    "        predictors='all',\n",
    "        split='test',\n",
    "        distribution='laplace',\n",
    "        overwrite_existing_models=True,\n",
    "        overwrite_results=True)"
   ]
  },
  {
   "cell_type": "code",
   "execution_count": null,
   "metadata": {},
   "outputs": [],
   "source": []
  }
 ],
 "metadata": {
  "kernelspec": {
   "display_name": "Python 3",
   "language": "python",
   "name": "python3"
  },
  "language_info": {
   "codemirror_mode": {
    "name": "ipython",
    "version": 3
   },
   "file_extension": ".py",
   "mimetype": "text/x-python",
   "name": "python",
   "nbconvert_exporter": "python",
   "pygments_lexer": "ipython3",
   "version": "3.8.5"
  }
 },
 "nbformat": 4,
 "nbformat_minor": 4
}
